{
  "cells": [
    {
      "cell_type": "markdown",
      "metadata": {
        "id": "view-in-github",
        "colab_type": "text"
      },
      "source": [
        "<a href=\"https://colab.research.google.com/github/elango-ela/Vision-Transformers-for-Classification/blob/main/vision_transfomers.ipynb\" target=\"_parent\"><img src=\"https://colab.research.google.com/assets/colab-badge.svg\" alt=\"Open In Colab\"/></a>"
      ]
    },
    {
      "cell_type": "code",
      "execution_count": 2,
      "metadata": {
        "colab": {
          "base_uri": "https://localhost:8080/"
        },
        "id": "p1sW35VMGXbu",
        "outputId": "b203b526-43f6-4514-82f5-23080e7deabf"
      },
      "outputs": [
        {
          "output_type": "stream",
          "name": "stdout",
          "text": [
            "Collecting einops\n",
            "  Downloading einops-0.7.0-py3-none-any.whl (44 kB)\n",
            "\u001b[?25l     \u001b[90m━━━━━━━━━━━━━━━━━━━━━━━━━━━━━━━━━━━━━━━━\u001b[0m \u001b[32m0.0/44.6 kB\u001b[0m \u001b[31m?\u001b[0m eta \u001b[36m-:--:--\u001b[0m\r\u001b[2K     \u001b[91m━━━━━━━━━━━━━━━━━━━━━━━━━━━━━━━━━━━━\u001b[0m\u001b[91m╸\u001b[0m\u001b[90m━━━\u001b[0m \u001b[32m41.0/44.6 kB\u001b[0m \u001b[31m1.2 MB/s\u001b[0m eta \u001b[36m0:00:01\u001b[0m\r\u001b[2K     \u001b[90m━━━━━━━━━━━━━━━━━━━━━━━━━━━━━━━━━━━━━━━━\u001b[0m \u001b[32m44.6/44.6 kB\u001b[0m \u001b[31m820.2 kB/s\u001b[0m eta \u001b[36m0:00:00\u001b[0m\n",
            "\u001b[?25hInstalling collected packages: einops\n",
            "Successfully installed einops-0.7.0\n"
          ]
        }
      ],
      "source": [
        "!pip install einops"
      ]
    },
    {
      "cell_type": "code",
      "execution_count": 3,
      "metadata": {
        "id": "Em68JZvqGSKC"
      },
      "outputs": [],
      "source": [
        "import einops\n",
        "from tqdm.notebook import tqdm\n",
        "\n",
        "from torchsummary import summary\n",
        "\n",
        "import time\n",
        "\n",
        "import torch\n",
        "from torch import nn\n",
        "import torchvision\n",
        "import torch.optim as optim\n",
        "from torchvision.transforms import Compose, Resize, ToTensor, Normalize, RandomHorizontalFlip, RandomCrop"
      ]
    },
    {
      "cell_type": "code",
      "execution_count": 4,
      "metadata": {
        "colab": {
          "base_uri": "https://localhost:8080/"
        },
        "id": "i7M6ZWPVGeN_",
        "outputId": "5de71903-deca-461b-fc2e-bc3fc20a3668"
      },
      "outputs": [
        {
          "output_type": "stream",
          "name": "stdout",
          "text": [
            "cpu\n"
          ]
        }
      ],
      "source": [
        "device = 'cuda:0' if torch.cuda.is_available() else 'cpu'\n",
        "print(device)\n",
        "\n",
        "patch_size = 16         # Patch size (P) = 16\n",
        "latent_size = 768       # Latent vector (D). ViT-Base uses 768\n",
        "n_channels = 3          # Number of channels for input images\n",
        "num_heads = 12          # ViT-Base uses 12 heads\n",
        "num_encoders = 12       # ViT-Base uses 12 encoder layers\n",
        "dropout = 0.1           # Dropout = 0.1 is used with ViT-Base & ImageNet-21k\n",
        "num_classes = 10        # Number of classes in CIFAR10 dataset\n",
        "size = 224              # Size used for training = 224\n",
        "\n",
        "epochs = 30             # Number of epochs\n",
        "base_lr = 10e-3         # Base LR\n",
        "weight_decay = 0.03     # Weight decay for ViT-Base (on ImageNet-21k)\n",
        "batch_size = 4"
      ]
    },
    {
      "cell_type": "code",
      "execution_count": 5,
      "metadata": {
        "colab": {
          "base_uri": "https://localhost:8080/"
        },
        "id": "Vkn3MypqJoy0",
        "outputId": "6e29c59a-4d4d-4bbd-bb25-8c25f3e5018d"
      },
      "outputs": [
        {
          "output_type": "stream",
          "name": "stdout",
          "text": [
            "Downloading https://www.cs.toronto.edu/~kriz/cifar-10-python.tar.gz to /home/achalhoub/Desktop/ViT_CIFAR10_data/cifar-10-python.tar.gz\n"
          ]
        },
        {
          "output_type": "stream",
          "name": "stderr",
          "text": [
            "100%|██████████| 170498071/170498071 [00:02<00:00, 73137848.03it/s]\n"
          ]
        },
        {
          "output_type": "stream",
          "name": "stdout",
          "text": [
            "Extracting /home/achalhoub/Desktop/ViT_CIFAR10_data/cifar-10-python.tar.gz to /home/achalhoub/Desktop/ViT_CIFAR10_data\n"
          ]
        }
      ],
      "source": [
        "# I resize the input data to 224x224, since that is the training resolution used in the paper.\n",
        "# The mean and std values used to normalize CIFAR10 data is from here: https://github.com/kentaroy47/vision-transformers-cifar10/blob/main/train_cifar10.py\n",
        "transform_training_data = Compose(\n",
        "    [RandomCrop(32, padding=4), Resize((224)), RandomHorizontalFlip(), ToTensor(), Normalize((0.4914, 0.4822, 0.4465), (0.2023, 0.1994, 0.2010))])\n",
        "\n",
        "train_data = torchvision.datasets.CIFAR10(\n",
        "    root='/home/achalhoub/Desktop/ViT_CIFAR10_data', train=True, download=True, transform=transform_training_data)\n",
        "\n",
        "trainloader = torch.utils.data.DataLoader(train_data, batch_size=batch_size,\n",
        "                                          shuffle=True, num_workers=2)\n",
        "\n",
        "classes = ('plane', 'car', 'bird', 'cat', 'deer', 'dog', 'frog', 'horse', 'ship', 'truck')"
      ]
    },
    {
      "cell_type": "code",
      "execution_count": 6,
      "metadata": {
        "colab": {
          "base_uri": "https://localhost:8080/",
          "height": 207
        },
        "id": "DhNeRnD-Jcrh",
        "outputId": "6316d47b-cb46-4cb9-a2b7-b8cc94327ff1"
      },
      "outputs": [
        {
          "output_type": "stream",
          "name": "stderr",
          "text": [
            "WARNING:matplotlib.image:Clipping input data to the valid range for imshow with RGB data ([0..1] for floats or [0..255] for integers).\n"
          ]
        },
        {
          "output_type": "display_data",
          "data": {
            "text/plain": [
              "<Figure size 640x480 with 1 Axes>"
            ],
            "image/png": "[encoded data removed]"
          },
          "metadata": {}
        }
      ],
      "source": [
        "import matplotlib.pyplot as plt\n",
        "import numpy as np\n",
        "\n",
        "# functions to show an image\n",
        "def imshow(img):\n",
        "    img = img / 2 + 0.5     # unnormalize\n",
        "    npimg = img.numpy()\n",
        "    plt.imshow(np.transpose(npimg, (1, 2, 0)))\n",
        "    plt.show()\n",
        "\n",
        "# get some random training images\n",
        "dataiter = iter(trainloader)\n",
        "images, labels = next(dataiter)\n",
        "\n",
        "# show images\n",
        "\n",
        "imshow(torchvision.utils.make_grid(images))\n",
        "# print labels\n",
        "print(' '.join(f'{classes[labels[j]]:5s}' for j in range(batch_size)))"
      ]
    },
    {
      "cell_type": "code",
      "execution_count": 7,
      "metadata": {
        "id": "idi_7SjCJj2e",
        "colab": {
          "base_uri": "https://localhost:8080/"
        },
        "outputId": "829462a7-d314-407a-a597-86b7d2322cc2"
      },
      "outputs": [
        {
          "output_type": "stream",
          "name": "stdout",
          "text": [
            "frog  dog   horse dog  \n"
          ]
        }
      ],
      "source": [
        "class InputEmbedding(nn.Module):\n",
        "    def __init__(self, patch_size=patch_size, n_channels=n_channels, device=device, latent_size=latent_size, batch_size=batch_size):\n",
        "        super(InputEmbedding, self).__init__()\n",
        "        self.latent_size = latent_size\n",
        "        self.patch_size = patch_size\n",
        "        self.n_channels = n_channels\n",
        "        self.device = device\n",
        "        self.batch_size = batch_size\n",
        "        self.input_size = self.patch_size * self.patch_size * self.n_channels\n",
        "\n",
        "        self.linearProjection = nn.Linear(self.input_size, self.latent_size)\n",
        "\n",
        "        # Random initialization of of [class] token that is prepended to the linear projection vector.\n",
        "        self.class_token = nn.Parameter(torch.randn(self.batch_size, 1, self.latent_size)).to(self.device)\n",
        "\n",
        "        # Positional embedding\n",
        "        self.pos_embedding = nn.Parameter(torch.randn(self.batch_size, 1, self.latent_size)).to(self.device)\n",
        "\n",
        "\n",
        "    def forward(self, input_data):\n",
        "\n",
        "        input_data = input_data.to(self.device)\n",
        "\n",
        "        # Re-arrange image into patches.\n",
        "        patches = einops.rearrange(\n",
        "            input_data, 'b c (h h1) (w w1) -> b (h w) (h1 w1 c)', h1=self.patch_size, w1=self.patch_size)\n",
        "\n",
        "        linear_projection = self.linearProjection(patches).to(self.device)\n",
        "        b, n, _ = linear_projection.shape\n",
        "\n",
        "        # Prepend the [class] token to the original linear projection\n",
        "        linear_projection = torch.cat((self.class_token, linear_projection), dim=1)\n",
        "        pos_embed = einops.repeat(self.pos_embedding, 'b 1 d -> b m d', m=n+1)\n",
        "\n",
        "        # Add positional embedding to linear projection\n",
        "        linear_projection += pos_embed\n",
        "\n",
        "        return linear_projection"
      ]
    },
    {
      "cell_type": "code",
      "execution_count": 8,
      "metadata": {
        "id": "PD4dzIMGJ-tN"
      },
      "outputs": [],
      "source": [
        "class InputEmbedding(nn.Module):\n",
        "    def __init__(self, patch_size=patch_size, n_channels=n_channels, device=device, latent_size=latent_size, batch_size=batch_size):\n",
        "        super(InputEmbedding, self).__init__()\n",
        "        self.latent_size = latent_size\n",
        "        self.patch_size = patch_size\n",
        "        self.n_channels = n_channels\n",
        "        self.device = device\n",
        "        self.batch_size = batch_size\n",
        "        self.input_size = self.patch_size * self.patch_size * self.n_channels\n",
        "\n",
        "        self.linearProjection = nn.Linear(self.input_size, self.latent_size)\n",
        "\n",
        "        # Random initialization of of [class] token that is prepended to the linear projection vector.\n",
        "        self.class_token = nn.Parameter(torch.randn(self.batch_size, 1, self.latent_size)).to(self.device)\n",
        "\n",
        "        # Positional embedding\n",
        "        self.pos_embedding = nn.Parameter(torch.randn(self.batch_size, 1, self.latent_size)).to(self.device)\n",
        "\n",
        "\n",
        "    def forward(self, input_data):\n",
        "\n",
        "        input_data = input_data.to(self.device)\n",
        "\n",
        "        # Re-arrange image into patches.\n",
        "        patches = einops.rearrange(\n",
        "            input_data, 'b c (h h1) (w w1) -> b (h w) (h1 w1 c)', h1=self.patch_size, w1=self.patch_size)\n",
        "\n",
        "        linear_projection = self.linearProjection(patches).to(self.device)\n",
        "        b, n, _ = linear_projection.shape\n",
        "\n",
        "        # Prepend the [class] token to the original linear projection\n",
        "        linear_projection = torch.cat((self.class_token, linear_projection), dim=1)\n",
        "        pos_embed = einops.repeat(self.pos_embedding, 'b 1 d -> b m d', m=n+1)\n",
        "\n",
        "        # Add positional embedding to linear projection\n",
        "        linear_projection += pos_embed\n",
        "\n",
        "        return linear_projection"
      ]
    },
    {
      "cell_type": "code",
      "execution_count": 9,
      "metadata": {
        "id": "akgOlgNyKG3G"
      },
      "outputs": [],
      "source": [
        "class EncoderBlock(nn.Module):\n",
        "    def __init__(self, latent_size=latent_size, num_heads=num_heads, device=device, dropout=dropout):\n",
        "        super(EncoderBlock, self).__init__()\n",
        "\n",
        "        self.latent_size = latent_size\n",
        "        self.num_heads = num_heads\n",
        "        self.device = device\n",
        "        self.dropout = dropout\n",
        "\n",
        "        # Normalization layer for both sublayers\n",
        "        self.norm = nn.LayerNorm(self.latent_size)\n",
        "\n",
        "        # Multi-Head Attention layer\n",
        "        self.multihead = nn.MultiheadAttention(\n",
        "            self.latent_size, self.num_heads, dropout=self.dropout)\n",
        "\n",
        "\n",
        "        # MLP_head layer in the encoder. I use the same configuration as that\n",
        "        # used in the original VitTransformer implementation. The ViT-Base\n",
        "        # variant uses MLP_head size 3072, which is latent_size*4.\n",
        "        self.enc_MLP = nn.Sequential(\n",
        "            nn.Linear(self.latent_size, self.latent_size*4),\n",
        "            nn.GELU(),\n",
        "            nn.Dropout(self.dropout),\n",
        "            nn.Linear(self.latent_size*4, self.latent_size),\n",
        "            nn.Dropout(self.dropout)\n",
        "        )\n",
        "\n",
        "    def forward(self, embedded_patches):\n",
        "\n",
        "        # First sublayer: Norm + Multi-Head Attention + residual connection.\n",
        "        # We take the first element ([0]) of the returned output from nn.MultiheadAttention()\n",
        "        # because this module returns 'Tuple[attention_output, attention_output_weights]'.\n",
        "        # Refer to here for more info: https://pytorch.org/docs/stable/generated/torch.nn.MultiheadAttention.html\n",
        "        firstNorm_out = self.norm(embedded_patches)\n",
        "        attention_output = self.multihead(firstNorm_out, firstNorm_out, firstNorm_out)[0]\n",
        "\n",
        "        # First residual connection\n",
        "        first_added_output = attention_output + embedded_patches\n",
        "\n",
        "        # Second sublayer: Norm + enc_MLP (Feed forward)\n",
        "        secondNorm_out = self.norm(first_added_output)\n",
        "        ff_output = self.enc_MLP(secondNorm_out)\n",
        "\n",
        "        # Return the output of the second residual connection\n",
        "        return ff_output + first_added_output"
      ]
    },
    {
      "cell_type": "code",
      "execution_count": 10,
      "metadata": {
        "id": "jbaDgTD6KL7Y"
      },
      "outputs": [],
      "source": [
        "class VitTransformer(nn.Module):\n",
        "    def __init__(self, num_encoders=num_encoders, latent_size=latent_size, device=device, num_classes=num_classes, dropout=dropout):\n",
        "        super(VitTransformer, self).__init__()\n",
        "        self.num_encoders = num_encoders\n",
        "        self.latent_size = latent_size\n",
        "        self.device = device\n",
        "        self.num_classes = num_classes\n",
        "        self.dropout = dropout\n",
        "\n",
        "        self.embedding = InputEmbedding()\n",
        "\n",
        "        # Create a stack of encoder layers\n",
        "        self.encStack = nn.ModuleList([EncoderBlock() for i in range(self.num_encoders)])\n",
        "\n",
        "        # MLP_head at the classification stage has 'one hidden layer at pre-training time\n",
        "        # and by a single linear layer at fine-tuning time'. For this implementation I will\n",
        "        # use what was used for training, so I'll have a total of two layers, one hidden\n",
        "        # layer and one output layer.\n",
        "        self.MLP_head = nn.Sequential(\n",
        "            nn.LayerNorm(self.latent_size),\n",
        "            nn.Linear(self.latent_size, self.latent_size),\n",
        "            nn.Linear(self.latent_size, self.num_classes)\n",
        "        )\n",
        "\n",
        "    def forward(self, test_input):\n",
        "\n",
        "        # Apply input embedding (patchify + linear projection + position embeding)\n",
        "        # to the input image passed to the model\n",
        "        enc_output = self.embedding(test_input)\n",
        "\n",
        "        # Loop through all the encoder layers\n",
        "        for enc_layer in self.encStack:\n",
        "            enc_output = enc_layer.forward(enc_output)\n",
        "\n",
        "        # Extract the output embedding information of the [class] token\n",
        "        cls_token_embedding = enc_output[:, 0]\n",
        "\n",
        "        # Finally, return the classification vector for all image in the batch\n",
        "        return self.MLP_head(cls_token_embedding)"
      ]
    },
    {
      "cell_type": "code",
      "execution_count": 11,
      "metadata": {
        "id": "X7-gVqxfKPqp"
      },
      "outputs": [],
      "source": [
        "model = VitTransformer(num_encoders, latent_size, device, num_classes).to(device)\n",
        "\n",
        "# Betas used for Adam in paper are 0.9 and 0.999, which are the default in PyTorch\n",
        "optimizer = optim.Adam(model.parameters(), lr=base_lr, weight_decay=weight_decay)\n",
        "criterion = nn.CrossEntropyLoss()\n",
        "scheduler = optim.lr_scheduler.LinearLR(optimizer)"
      ]
    },
    {
      "cell_type": "code",
      "execution_count": 14,
      "metadata": {
        "id": "SzbqtnxWLalM"
      },
      "outputs": [],
      "source": [
        "def main():\n",
        "    model.train().to(device)\n",
        "\n",
        "    for epoch in tqdm(range(100), total=100):\n",
        "        running_loss = 0.0\n",
        "        for batch_idx, (inputs, targets) in enumerate(tqdm(trainloader)):\n",
        "\n",
        "            inputs, targets = inputs.to(device), targets.to(device)\n",
        "\n",
        "            optimizer.zero_grad()\n",
        "\n",
        "            outputs = model(inputs)\n",
        "\n",
        "            loss = criterion(outputs, targets)\n",
        "\n",
        "            loss.backward()\n",
        "            optimizer.step()\n",
        "\n",
        "            running_loss += loss.item()\n",
        "\n",
        "            if batch_idx % 20 == 0:\n",
        "                print('Batch {} epoch {} has loss = {}'.format(batch_idx, epoch, running_loss/200))\n",
        "                running_loss = 0\n",
        "\n",
        "        scheduler.step()"
      ]
    },
    {
      "cell_type": "code",
      "execution_count": null,
      "metadata": {
        "colab": {
          "base_uri": "https://localhost:8080/",
          "height": 341,
          "referenced_widgets": [
            "d808dbaae3d34d838257de938cd32e4c",
            "99880ea298a545648ebe916d98801e5d",
            "d808165fbe7e48a5af3910235555b3ff",
            "2c920a321c56408fad765f1830a6ae27",
            "2d279fa13fe4432cb0dee043275deb8d",
            "47235ef885e945e594203e5a440909c8",
            "1fdb4be3611a4d7c9df42c51dd506a83",
            "4a12b4da2a6c4ce4a384f8ce782384b3",
            "a3c0265857bf4922a7728ffcaffb4c1b",
            "37dc0ca28df4467e81a7fbb64536e769",
            "a7c901473b174100baa18b3b23c6f546",
            "b718c2f30fea465999a832a50ad0ee24",
            "bacc16d0fd4b4e85ab49ca7ad2c81b7f",
            "3888ea4b54464cc584388be93b0a4b1d",
            "8abba0064b9548978ac676ea46964897",
            "70a2026cf72c4fad8fcd746afa1c692b",
            "adb75bfeb9484748aa892ff89b0fb53a",
            "2481ebfc2ad04ae2accc5d25088d4068",
            "372f554963f54ebd8ce829d0e13c17ef",
            "1c68d5cf25a5410095f9bae966701e93",
            "5f89c0642c5f48d7a882086d932b6052",
            "ff597bffaa824f62aad2e84624469e4d"
          ]
        },
        "id": "G0I6tr0pLdnt",
        "outputId": "29a3f704-380e-45d9-d46f-68f561e32361"
      },
      "outputs": [
        {
          "data": {
            "application/vnd.jupyter.widget-view+json": {
              "model_id": "d808dbaae3d34d838257de938cd32e4c",
              "version_major": 2,
              "version_minor": 0
            },
            "text/plain": [
              "  0%|          | 0/100 [00:00<?, ?it/s]"
            ]
          },
          "metadata": {},
          "output_type": "display_data"
        },
        {
          "data": {
            "application/vnd.jupyter.widget-view+json": {
              "model_id": "b718c2f30fea465999a832a50ad0ee24",
              "version_major": 2,
              "version_minor": 0
            },
            "text/plain": [
              "  0%|          | 0/12500 [00:00<?, ?it/s]"
            ]
          },
          "metadata": {},
          "output_type": "display_data"
        },
        {
          "output_type": "stream",
          "name": "stdout",
          "text": [
            "Batch 0 epoch 0 has loss = 0.011897943019866943\n",
            "Batch 20 epoch 0 has loss = 0.23164655804634093\n",
            "Batch 40 epoch 0 has loss = 0.23332677125930787\n",
            "Batch 60 epoch 0 has loss = 0.2305660080909729\n",
            "Batch 80 epoch 0 has loss = 0.230090434551239\n",
            "Batch 100 epoch 0 has loss = 0.23119925379753112\n",
            "Batch 120 epoch 0 has loss = 0.22993448138237\n",
            "Batch 140 epoch 0 has loss = 0.2303127884864807\n",
            "Batch 160 epoch 0 has loss = 0.23097409725189208\n",
            "Batch 180 epoch 0 has loss = 0.23004745602607726\n",
            "Batch 200 epoch 0 has loss = 0.23034144282341004\n",
            "Batch 220 epoch 0 has loss = 0.23001781821250916\n",
            "Batch 240 epoch 0 has loss = 0.23049988150596618\n",
            "Batch 260 epoch 0 has loss = 0.23032811760902405\n",
            "Batch 280 epoch 0 has loss = 0.23067060470581055\n"
          ]
        }
      ],
      "source": [
        "if __name__ == \"__main__\":\n",
        "    main()"
      ]
    },
    {
      "cell_type": "code",
      "source": [
        "import torch.nn as nn\n",
        "import torch\n",
        "\n",
        "class ExampleModel(nn.Module):\n",
        "    def __init__(self, input_size, output_size):\n",
        "        super(ExampleModel, self).__init__()\n",
        "\n",
        "        # Define a learnable parameter\n",
        "        self.weight = nn.Parameter(torch.randn(input_size, output_size))\n",
        "\n",
        "    def forward(self, x):\n",
        "        # Use the learnable parameter in the forward pass\n",
        "        output = torch.matmul(x, self.weight)\n",
        "        return output\n",
        "\n",
        "# Create an instance of the model\n",
        "model = ExampleModel(input_size=10, output_size=5)\n",
        "\n",
        "# Print the model's parameters\n",
        "for name, param in model.named_parameters():\n",
        "    print(f\"Parameter name: {name}, Size: {param.size()}\")"
      ],
      "metadata": {
        "id": "lZ68sodIdHmV"
      },
      "execution_count": null,
      "outputs": []
    }
  ],
  "metadata": {
    "colab": {
      "provenance": [],
      "authorship_tag": "ABX9TyPqiJ/2rGLxJWdgdJFtXGtz",
      "include_colab_link": true
    },
    "kernelspec": {
      "display_name": "Python 3",
      "name": "python3"
    },
    "language_info": {
      "name": "python"
    },
    "widgets": {
      "application/vnd.jupyter.widget-state+json": {
        "d808dbaae3d34d838257de938cd32e4c": {
          "model_module": "@jupyter-widgets/controls",
          "model_name": "HBoxModel",
          "model_module_version": "1.5.0",
          "state": {
            "_dom_classes": [],
            "_model_module": "@jupyter-widgets/controls",
            "_model_module_version": "1.5.0",
            "_model_name": "HBoxModel",
            "_view_count": null,
            "_view_module": "@jupyter-widgets/controls",
            "_view_module_version": "1.5.0",
            "_view_name": "HBoxView",
            "box_style": "",
            "children": [
              "IPY_MODEL_99880ea298a545648ebe916d98801e5d",
              "IPY_MODEL_d808165fbe7e48a5af3910235555b3ff",
              "IPY_MODEL_2c920a321c56408fad765f1830a6ae27"
            ],
            "layout": "IPY_MODEL_2d279fa13fe4432cb0dee043275deb8d"
          }
        },
        "99880ea298a545648ebe916d98801e5d": {
          "model_module": "@jupyter-widgets/controls",
          "model_name": "HTMLModel",
          "model_module_version": "1.5.0",
          "state": {
            "_dom_classes": [],
            "_model_module": "@jupyter-widgets/controls",
            "_model_module_version": "1.5.0",
            "_model_name": "HTMLModel",
            "_view_count": null,
            "_view_module": "@jupyter-widgets/controls",
            "_view_module_version": "1.5.0",
            "_view_name": "HTMLView",
            "description": "",
            "description_tooltip": null,
            "layout": "IPY_MODEL_47235ef885e945e594203e5a440909c8",
            "placeholder": "​",
            "style": "IPY_MODEL_1fdb4be3611a4d7c9df42c51dd506a83",
            "value": "  0%"
          }
        },
        "d808165fbe7e48a5af3910235555b3ff": {
          "model_module": "@jupyter-widgets/controls",
          "model_name": "FloatProgressModel",
          "model_module_version": "1.5.0",
          "state": {
            "_dom_classes": [],
            "_model_module": "@jupyter-widgets/controls",
            "_model_module_version": "1.5.0",
            "_model_name": "FloatProgressModel",
            "_view_count": null,
            "_view_module": "@jupyter-widgets/controls",
            "_view_module_version": "1.5.0",
            "_view_name": "ProgressView",
            "bar_style": "",
            "description": "",
            "description_tooltip": null,
            "layout": "IPY_MODEL_4a12b4da2a6c4ce4a384f8ce782384b3",
            "max": 100,
            "min": 0,
            "orientation": "horizontal",
            "style": "IPY_MODEL_a3c0265857bf4922a7728ffcaffb4c1b",
            "value": 0
          }
        },
        "2c920a321c56408fad765f1830a6ae27": {
          "model_module": "@jupyter-widgets/controls",
          "model_name": "HTMLModel",
          "model_module_version": "1.5.0",
          "state": {
            "_dom_classes": [],
            "_model_module": "@jupyter-widgets/controls",
            "_model_module_version": "1.5.0",
            "_model_name": "HTMLModel",
            "_view_count": null,
            "_view_module": "@jupyter-widgets/controls",
            "_view_module_version": "1.5.0",
            "_view_name": "HTMLView",
            "description": "",
            "description_tooltip": null,
            "layout": "IPY_MODEL_37dc0ca28df4467e81a7fbb64536e769",
            "placeholder": "​",
            "style": "IPY_MODEL_a7c901473b174100baa18b3b23c6f546",
            "value": " 0/100 [00:00&lt;?, ?it/s]"
          }
        },
        "2d279fa13fe4432cb0dee043275deb8d": {
          "model_module": "@jupyter-widgets/base",
          "model_name": "LayoutModel",
          "model_module_version": "1.2.0",
          "state": {
            "_model_module": "@jupyter-widgets/base",
            "_model_module_version": "1.2.0",
            "_model_name": "LayoutModel",
            "_view_count": null,
            "_view_module": "@jupyter-widgets/base",
            "_view_module_version": "1.2.0",
            "_view_name": "LayoutView",
            "align_content": null,
            "align_items": null,
            "align_self": null,
            "border": null,
            "bottom": null,
            "display": null,
            "flex": null,
            "flex_flow": null,
            "grid_area": null,
            "grid_auto_columns": null,
            "grid_auto_flow": null,
            "grid_auto_rows": null,
            "grid_column": null,
            "grid_gap": null,
            "grid_row": null,
            "grid_template_areas": null,
            "grid_template_columns": null,
            "grid_template_rows": null,
            "height": null,
            "justify_content": null,
            "justify_items": null,
            "left": null,
            "margin": null,
            "max_height": null,
            "max_width": null,
            "min_height": null,
            "min_width": null,
            "object_fit": null,
            "object_position": null,
            "order": null,
            "overflow": null,
            "overflow_x": null,
            "overflow_y": null,
            "padding": null,
            "right": null,
            "top": null,
            "visibility": null,
            "width": null
          }
        },
        "47235ef885e945e594203e5a440909c8": {
          "model_module": "@jupyter-widgets/base",
          "model_name": "LayoutModel",
          "model_module_version": "1.2.0",
          "state": {
            "_model_module": "@jupyter-widgets/base",
            "_model_module_version": "1.2.0",
            "_model_name": "LayoutModel",
            "_view_count": null,
            "_view_module": "@jupyter-widgets/base",
            "_view_module_version": "1.2.0",
            "_view_name": "LayoutView",
            "align_content": null,
            "align_items": null,
            "align_self": null,
            "border": null,
            "bottom": null,
            "display": null,
            "flex": null,
            "flex_flow": null,
            "grid_area": null,
            "grid_auto_columns": null,
            "grid_auto_flow": null,
            "grid_auto_rows": null,
            "grid_column": null,
            "grid_gap": null,
            "grid_row": null,
            "grid_template_areas": null,
            "grid_template_columns": null,
            "grid_template_rows": null,
            "height": null,
            "justify_content": null,
            "justify_items": null,
            "left": null,
            "margin": null,
            "max_height": null,
            "max_width": null,
            "min_height": null,
            "min_width": null,
            "object_fit": null,
            "object_position": null,
            "order": null,
            "overflow": null,
            "overflow_x": null,
            "overflow_y": null,
            "padding": null,
            "right": null,
            "top": null,
            "visibility": null,
            "width": null
          }
        },
        "1fdb4be3611a4d7c9df42c51dd506a83": {
          "model_module": "@jupyter-widgets/controls",
          "model_name": "DescriptionStyleModel",
          "model_module_version": "1.5.0",
          "state": {
            "_model_module": "@jupyter-widgets/controls",
            "_model_module_version": "1.5.0",
            "_model_name": "DescriptionStyleModel",
            "_view_count": null,
            "_view_module": "@jupyter-widgets/base",
            "_view_module_version": "1.2.0",
            "_view_name": "StyleView",
            "description_width": ""
          }
        },
        "4a12b4da2a6c4ce4a384f8ce782384b3": {
          "model_module": "@jupyter-widgets/base",
          "model_name": "LayoutModel",
          "model_module_version": "1.2.0",
          "state": {
            "_model_module": "@jupyter-widgets/base",
            "_model_module_version": "1.2.0",
            "_model_name": "LayoutModel",
            "_view_count": null,
            "_view_module": "@jupyter-widgets/base",
            "_view_module_version": "1.2.0",
            "_view_name": "LayoutView",
            "align_content": null,
            "align_items": null,
            "align_self": null,
            "border": null,
            "bottom": null,
            "display": null,
            "flex": null,
            "flex_flow": null,
            "grid_area": null,
            "grid_auto_columns": null,
            "grid_auto_flow": null,
            "grid_auto_rows": null,
            "grid_column": null,
            "grid_gap": null,
            "grid_row": null,
            "grid_template_areas": null,
            "grid_template_columns": null,
            "grid_template_rows": null,
            "height": null,
            "justify_content": null,
            "justify_items": null,
            "left": null,
            "margin": null,
            "max_height": null,
            "max_width": null,
            "min_height": null,
            "min_width": null,
            "object_fit": null,
            "object_position": null,
            "order": null,
            "overflow": null,
            "overflow_x": null,
            "overflow_y": null,
            "padding": null,
            "right": null,
            "top": null,
            "visibility": null,
            "width": null
          }
        },
        "a3c0265857bf4922a7728ffcaffb4c1b": {
          "model_module": "@jupyter-widgets/controls",
          "model_name": "ProgressStyleModel",
          "model_module_version": "1.5.0",
          "state": {
            "_model_module": "@jupyter-widgets/controls",
            "_model_module_version": "1.5.0",
            "_model_name": "ProgressStyleModel",
            "_view_count": null,
            "_view_module": "@jupyter-widgets/base",
            "_view_module_version": "1.2.0",
            "_view_name": "StyleView",
            "bar_color": null,
            "description_width": ""
          }
        },
        "37dc0ca28df4467e81a7fbb64536e769": {
          "model_module": "@jupyter-widgets/base",
          "model_name": "LayoutModel",
          "model_module_version": "1.2.0",
          "state": {
            "_model_module": "@jupyter-widgets/base",
            "_model_module_version": "1.2.0",
            "_model_name": "LayoutModel",
            "_view_count": null,
            "_view_module": "@jupyter-widgets/base",
            "_view_module_version": "1.2.0",
            "_view_name": "LayoutView",
            "align_content": null,
            "align_items": null,
            "align_self": null,
            "border": null,
            "bottom": null,
            "display": null,
            "flex": null,
            "flex_flow": null,
            "grid_area": null,
            "grid_auto_columns": null,
            "grid_auto_flow": null,
            "grid_auto_rows": null,
            "grid_column": null,
            "grid_gap": null,
            "grid_row": null,
            "grid_template_areas": null,
            "grid_template_columns": null,
            "grid_template_rows": null,
            "height": null,
            "justify_content": null,
            "justify_items": null,
            "left": null,
            "margin": null,
            "max_height": null,
            "max_width": null,
            "min_height": null,
            "min_width": null,
            "object_fit": null,
            "object_position": null,
            "order": null,
            "overflow": null,
            "overflow_x": null,
            "overflow_y": null,
            "padding": null,
            "right": null,
            "top": null,
            "visibility": null,
            "width": null
          }
        },
        "a7c901473b174100baa18b3b23c6f546": {
          "model_module": "@jupyter-widgets/controls",
          "model_name": "DescriptionStyleModel",
          "model_module_version": "1.5.0",
          "state": {
            "_model_module": "@jupyter-widgets/controls",
            "_model_module_version": "1.5.0",
            "_model_name": "DescriptionStyleModel",
            "_view_count": null,
            "_view_module": "@jupyter-widgets/base",
            "_view_module_version": "1.2.0",
            "_view_name": "StyleView",
            "description_width": ""
          }
        },
        "b718c2f30fea465999a832a50ad0ee24": {
          "model_module": "@jupyter-widgets/controls",
          "model_name": "HBoxModel",
          "model_module_version": "1.5.0",
          "state": {
            "_dom_classes": [],
            "_model_module": "@jupyter-widgets/controls",
            "_model_module_version": "1.5.0",
            "_model_name": "HBoxModel",
            "_view_count": null,
            "_view_module": "@jupyter-widgets/controls",
            "_view_module_version": "1.5.0",
            "_view_name": "HBoxView",
            "box_style": "",
            "children": [
              "IPY_MODEL_bacc16d0fd4b4e85ab49ca7ad2c81b7f",
              "IPY_MODEL_3888ea4b54464cc584388be93b0a4b1d",
              "IPY_MODEL_8abba0064b9548978ac676ea46964897"
            ],
            "layout": "IPY_MODEL_70a2026cf72c4fad8fcd746afa1c692b"
          }
        },
        "bacc16d0fd4b4e85ab49ca7ad2c81b7f": {
          "model_module": "@jupyter-widgets/controls",
          "model_name": "HTMLModel",
          "model_module_version": "1.5.0",
          "state": {
            "_dom_classes": [],
            "_model_module": "@jupyter-widgets/controls",
            "_model_module_version": "1.5.0",
            "_model_name": "HTMLModel",
            "_view_count": null,
            "_view_module": "@jupyter-widgets/controls",
            "_view_module_version": "1.5.0",
            "_view_name": "HTMLView",
            "description": "",
            "description_tooltip": null,
            "layout": "IPY_MODEL_adb75bfeb9484748aa892ff89b0fb53a",
            "placeholder": "​",
            "style": "IPY_MODEL_2481ebfc2ad04ae2accc5d25088d4068",
            "value": "  2%"
          }
        },
        "3888ea4b54464cc584388be93b0a4b1d": {
          "model_module": "@jupyter-widgets/controls",
          "model_name": "FloatProgressModel",
          "model_module_version": "1.5.0",
          "state": {
            "_dom_classes": [],
            "_model_module": "@jupyter-widgets/controls",
            "_model_module_version": "1.5.0",
            "_model_name": "FloatProgressModel",
            "_view_count": null,
            "_view_module": "@jupyter-widgets/controls",
            "_view_module_version": "1.5.0",
            "_view_name": "ProgressView",
            "bar_style": "",
            "description": "",
            "description_tooltip": null,
            "layout": "IPY_MODEL_372f554963f54ebd8ce829d0e13c17ef",
            "max": 12500,
            "min": 0,
            "orientation": "horizontal",
            "style": "IPY_MODEL_1c68d5cf25a5410095f9bae966701e93",
            "value": 292
          }
        },
        "8abba0064b9548978ac676ea46964897": {
          "model_module": "@jupyter-widgets/controls",
          "model_name": "HTMLModel",
          "model_module_version": "1.5.0",
          "state": {
            "_dom_classes": [],
            "_model_module": "@jupyter-widgets/controls",
            "_model_module_version": "1.5.0",
            "_model_name": "HTMLModel",
            "_view_count": null,
            "_view_module": "@jupyter-widgets/controls",
            "_view_module_version": "1.5.0",
            "_view_name": "HTMLView",
            "description": "",
            "description_tooltip": null,
            "layout": "IPY_MODEL_5f89c0642c5f48d7a882086d932b6052",
            "placeholder": "​",
            "style": "IPY_MODEL_ff597bffaa824f62aad2e84624469e4d",
            "value": " 292/12500 [38:43&lt;25:36:26,  7.55s/it]"
          }
        },
        "70a2026cf72c4fad8fcd746afa1c692b": {
          "model_module": "@jupyter-widgets/base",
          "model_name": "LayoutModel",
          "model_module_version": "1.2.0",
          "state": {
            "_model_module": "@jupyter-widgets/base",
            "_model_module_version": "1.2.0",
            "_model_name": "LayoutModel",
            "_view_count": null,
            "_view_module": "@jupyter-widgets/base",
            "_view_module_version": "1.2.0",
            "_view_name": "LayoutView",
            "align_content": null,
            "align_items": null,
            "align_self": null,
            "border": null,
            "bottom": null,
            "display": null,
            "flex": null,
            "flex_flow": null,
            "grid_area": null,
            "grid_auto_columns": null,
            "grid_auto_flow": null,
            "grid_auto_rows": null,
            "grid_column": null,
            "grid_gap": null,
            "grid_row": null,
            "grid_template_areas": null,
            "grid_template_columns": null,
            "grid_template_rows": null,
            "height": null,
            "justify_content": null,
            "justify_items": null,
            "left": null,
            "margin": null,
            "max_height": null,
            "max_width": null,
            "min_height": null,
            "min_width": null,
            "object_fit": null,
            "object_position": null,
            "order": null,
            "overflow": null,
            "overflow_x": null,
            "overflow_y": null,
            "padding": null,
            "right": null,
            "top": null,
            "visibility": null,
            "width": null
          }
        },
        "adb75bfeb9484748aa892ff89b0fb53a": {
          "model_module": "@jupyter-widgets/base",
          "model_name": "LayoutModel",
          "model_module_version": "1.2.0",
          "state": {
            "_model_module": "@jupyter-widgets/base",
            "_model_module_version": "1.2.0",
            "_model_name": "LayoutModel",
            "_view_count": null,
            "_view_module": "@jupyter-widgets/base",
            "_view_module_version": "1.2.0",
            "_view_name": "LayoutView",
            "align_content": null,
            "align_items": null,
            "align_self": null,
            "border": null,
            "bottom": null,
            "display": null,
            "flex": null,
            "flex_flow": null,
            "grid_area": null,
            "grid_auto_columns": null,
            "grid_auto_flow": null,
            "grid_auto_rows": null,
            "grid_column": null,
            "grid_gap": null,
            "grid_row": null,
            "grid_template_areas": null,
            "grid_template_columns": null,
            "grid_template_rows": null,
            "height": null,
            "justify_content": null,
            "justify_items": null,
            "left": null,
            "margin": null,
            "max_height": null,
            "max_width": null,
            "min_height": null,
            "min_width": null,
            "object_fit": null,
            "object_position": null,
            "order": null,
            "overflow": null,
            "overflow_x": null,
            "overflow_y": null,
            "padding": null,
            "right": null,
            "top": null,
            "visibility": null,
            "width": null
          }
        },
        "2481ebfc2ad04ae2accc5d25088d4068": {
          "model_module": "@jupyter-widgets/controls",
          "model_name": "DescriptionStyleModel",
          "model_module_version": "1.5.0",
          "state": {
            "_model_module": "@jupyter-widgets/controls",
            "_model_module_version": "1.5.0",
            "_model_name": "DescriptionStyleModel",
            "_view_count": null,
            "_view_module": "@jupyter-widgets/base",
            "_view_module_version": "1.2.0",
            "_view_name": "StyleView",
            "description_width": ""
          }
        },
        "372f554963f54ebd8ce829d0e13c17ef": {
          "model_module": "@jupyter-widgets/base",
          "model_name": "LayoutModel",
          "model_module_version": "1.2.0",
          "state": {
            "_model_module": "@jupyter-widgets/base",
            "_model_module_version": "1.2.0",
            "_model_name": "LayoutModel",
            "_view_count": null,
            "_view_module": "@jupyter-widgets/base",
            "_view_module_version": "1.2.0",
            "_view_name": "LayoutView",
            "align_content": null,
            "align_items": null,
            "align_self": null,
            "border": null,
            "bottom": null,
            "display": null,
            "flex": null,
            "flex_flow": null,
            "grid_area": null,
            "grid_auto_columns": null,
            "grid_auto_flow": null,
            "grid_auto_rows": null,
            "grid_column": null,
            "grid_gap": null,
            "grid_row": null,
            "grid_template_areas": null,
            "grid_template_columns": null,
            "grid_template_rows": null,
            "height": null,
            "justify_content": null,
            "justify_items": null,
            "left": null,
            "margin": null,
            "max_height": null,
            "max_width": null,
            "min_height": null,
            "min_width": null,
            "object_fit": null,
            "object_position": null,
            "order": null,
            "overflow": null,
            "overflow_x": null,
            "overflow_y": null,
            "padding": null,
            "right": null,
            "top": null,
            "visibility": null,
            "width": null
          }
        },
        "1c68d5cf25a5410095f9bae966701e93": {
          "model_module": "@jupyter-widgets/controls",
          "model_name": "ProgressStyleModel",
          "model_module_version": "1.5.0",
          "state": {
            "_model_module": "@jupyter-widgets/controls",
            "_model_module_version": "1.5.0",
            "_model_name": "ProgressStyleModel",
            "_view_count": null,
            "_view_module": "@jupyter-widgets/base",
            "_view_module_version": "1.2.0",
            "_view_name": "StyleView",
            "bar_color": null,
            "description_width": ""
          }
        },
        "5f89c0642c5f48d7a882086d932b6052": {
          "model_module": "@jupyter-widgets/base",
          "model_name": "LayoutModel",
          "model_module_version": "1.2.0",
          "state": {
            "_model_module": "@jupyter-widgets/base",
            "_model_module_version": "1.2.0",
            "_model_name": "LayoutModel",
            "_view_count": null,
            "_view_module": "@jupyter-widgets/base",
            "_view_module_version": "1.2.0",
            "_view_name": "LayoutView",
            "align_content": null,
            "align_items": null,
            "align_self": null,
            "border": null,
            "bottom": null,
            "display": null,
            "flex": null,
            "flex_flow": null,
            "grid_area": null,
            "grid_auto_columns": null,
            "grid_auto_flow": null,
            "grid_auto_rows": null,
            "grid_column": null,
            "grid_gap": null,
            "grid_row": null,
            "grid_template_areas": null,
            "grid_template_columns": null,
            "grid_template_rows": null,
            "height": null,
            "justify_content": null,
            "justify_items": null,
            "left": null,
            "margin": null,
            "max_height": null,
            "max_width": null,
            "min_height": null,
            "min_width": null,
            "object_fit": null,
            "object_position": null,
            "order": null,
            "overflow": null,
            "overflow_x": null,
            "overflow_y": null,
            "padding": null,
            "right": null,
            "top": null,
            "visibility": null,
            "width": null
          }
        },
        "ff597bffaa824f62aad2e84624469e4d": {
          "model_module": "@jupyter-widgets/controls",
          "model_name": "DescriptionStyleModel",
          "model_module_version": "1.5.0",
          "state": {
            "_model_module": "@jupyter-widgets/controls",
            "_model_module_version": "1.5.0",
            "_model_name": "DescriptionStyleModel",
            "_view_count": null,
            "_view_module": "@jupyter-widgets/base",
            "_view_module_version": "1.2.0",
            "_view_name": "StyleView",
            "description_width": ""
          }
        }
      }
    }
  },
  "nbformat": 4,
  "nbformat_minor": 0
}